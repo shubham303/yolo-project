{
 "cells": [
  {
   "cell_type": "markdown",
   "metadata": {
    "id": "gBQhkfF_Gsqo"
   },
   "source": [
    "# Faster RCNN ResNet 50 FPN on coco 2017 Dataset\n",
    "\n",
    "---\n",
    "Trained on COCO Dataset<br>\n",
    "8 V100 GPUs, CUDA 10.0, CUDNN 7.4<br>\n",
    "Box AP of 37.0 on COCO Dataset<br>\n",
    "Train time 0.2288 s/it<br>\n",
    "Test time 0.0590 s/it<br>\n",
    "Memory 5.2 GB\n",
    "\n",
    "\n"
   ]
  },
  {
   "cell_type": "markdown",
   "metadata": {
    "id": "3BrPVKxlH9LC"
   },
   "source": [
    "## Defining the model"
   ]
  },
  {
   "cell_type": "code",
   "execution_count": 2,
   "metadata": {
    "colab": {
     "background_save": true
    },
    "executionInfo": {
     "elapsed": 1163,
     "status": "ok",
     "timestamp": 1611396863293,
     "user": {
      "displayName": "Amit Prakash ce19s013",
      "photoUrl": "",
      "userId": "04868629383149662553"
     },
     "user_tz": -330
    },
    "id": "4QXp45ZvB0F9"
   },
   "outputs": [],
   "source": [
    "import torchvision\n",
    "import torchvision.models as models"
   ]
  },
  {
   "cell_type": "markdown",
   "metadata": {
    "id": "t6LVQuZ5KQjd"
   },
   "source": [
    "Loading Pretrained model"
   ]
  },
  {
   "cell_type": "code",
   "execution_count": null,
   "metadata": {
    "executionInfo": {
     "elapsed": 3104,
     "status": "ok",
     "timestamp": 1611396865242,
     "user": {
      "displayName": "Amit Prakash ce19s013",
      "photoUrl": "",
      "userId": "04868629383149662553"
     },
     "user_tz": -330
    },
    "id": "97hn7ENpJbtf"
   },
   "outputs": [],
   "source": [
    "model = models.detection.fasterrcnn_resnet50_fpn(pretrained=True, progress=True)"
   ]
  },
  {
   "cell_type": "code",
   "execution_count": null,
   "metadata": {
    "colab": {
     "base_uri": "https://localhost:8080/"
    },
    "executionInfo": {
     "elapsed": 3101,
     "status": "ok",
     "timestamp": 1611396865243,
     "user": {
      "displayName": "Amit Prakash ce19s013",
      "photoUrl": "",
      "userId": "04868629383149662553"
     },
     "user_tz": -330
    },
    "id": "tWAsGDaEpVFK",
    "outputId": "d9e3459e-98b3-41a3-82a1-e0d568c8c724"
   },
   "outputs": [],
   "source": [
    "model"
   ]
  },
  {
   "cell_type": "markdown",
   "metadata": {
    "id": "NHdZkNjqKVvE"
   },
   "source": [
    "Saving weights of training on COCO Dataset as the model was preiously trained on COCO"
   ]
  },
  {
   "cell_type": "code",
   "execution_count": null,
   "metadata": {
    "executionInfo": {
     "elapsed": 3098,
     "status": "ok",
     "timestamp": 1611396865245,
     "user": {
      "displayName": "Amit Prakash ce19s013",
      "photoUrl": "",
      "userId": "04868629383149662553"
     },
     "user_tz": -330
    },
    "id": "Kgw08rtAJ5kC"
   },
   "outputs": [],
   "source": [
    "import torch\n",
    "#torch.save(model.state_dict(), \"/content/drive/MyDrive/COMPUTER_VISION_DATASETS/Weights/COCO_Weights.pth\")"
   ]
  },
  {
   "cell_type": "markdown",
   "metadata": {
    "id": "OdHszx-7Lxbq"
   },
   "source": [
    "##Defining COCO Dataset"
   ]
  },
  {
   "cell_type": "markdown",
   "metadata": {
    "id": "B3ir5xHzoH-9"
   },
   "source": [
    "Preliminary evaluation of model on COCO val2017 dataset\n",
    "\n"
   ]
  },
  {
   "cell_type": "code",
   "execution_count": null,
   "metadata": {
    "executionInfo": {
     "elapsed": 3268,
     "status": "ok",
     "timestamp": 1611396865420,
     "user": {
      "displayName": "Amit Prakash ce19s013",
      "photoUrl": "",
      "userId": "04868629383149662553"
     },
     "user_tz": -330
    },
    "id": "zeE1RxSl6ICj"
   },
   "outputs": [],
   "source": [
    "COCO_INSTANCE_CATEGORY_NAMES = [\n",
    "    '__background__', 'person', 'bicycle', 'car', 'motorcycle', 'airplane', 'bus',\n",
    "    'train', 'truck', 'boat', 'traffic light', 'fire hydrant', 'N/A', 'stop sign',\n",
    "    'parking meter', 'bench', 'bird', 'cat', 'dog', 'horse', 'sheep', 'cow',\n",
    "    'elephant', 'bear', 'zebra', 'giraffe', 'N/A', 'backpack', 'umbrella', 'N/A', 'N/A',\n",
    "    'handbag', 'tie', 'suitcase', 'frisbee', 'skis', 'snowboard', 'sports ball',\n",
    "    'kite', 'baseball bat', 'baseball glove', 'skateboard', 'surfboard', 'tennis racket',\n",
    "    'bottle', 'N/A', 'wine glass', 'cup', 'fork', 'knife', 'spoon', 'bowl',\n",
    "    'banana', 'apple', 'sandwich', 'orange', 'broccoli', 'carrot', 'hot dog', 'pizza',\n",
    "    'donut', 'cake', 'chair', 'couch', 'potted plant', 'bed', 'N/A', 'dining table',\n",
    "    'N/A', 'N/A', 'toilet', 'N/A', 'tv', 'laptop', 'mouse', 'remote', 'keyboard', 'cell phone',\n",
    "    'microwave', 'oven', 'toaster', 'sink', 'refrigerator', 'N/A', 'book',\n",
    "    'clock', 'vase', 'scissors', 'teddy bear', 'hair drier', 'toothbrush'\n",
    "]"
   ]
  },
  {
   "cell_type": "code",
   "execution_count": null,
   "metadata": {
    "executionInfo": {
     "elapsed": 3266,
     "status": "ok",
     "timestamp": 1611396865421,
     "user": {
      "displayName": "Amit Prakash ce19s013",
      "photoUrl": "",
      "userId": "04868629383149662553"
     },
     "user_tz": -330
    },
    "id": "3g1wQsK264QB"
   },
   "outputs": [],
   "source": [
    "import torchvision.transforms as T\n",
    "from PIL import Image\n",
    "def get_prediction(img_path, threshold):\n",
    "  img = Image.open(img_path) # Load the image\n",
    "  transform = T.Compose([T.ToTensor()]) # Defing PyTorch Transform\n",
    "  img = transform(img) # Apply the transform to the image\n",
    "  pred = model([img]) # Pass the image to the model\n",
    "  pred_class = [COCO_INSTANCE_CATEGORY_NAMES[i] for i in list(pred[0]['labels'].numpy())] # Get the Prediction Score\n",
    "  pred_boxes = [[(i[0], i[1]), (i[2], i[3])] for i in list(pred[0]['boxes'].detach().numpy())] # Bounding boxes\n",
    "  pred_score = list(pred[0]['scores'].detach().numpy())\n",
    "  pred_t = [pred_score.index(x) for x in pred_score if x > threshold][-1] # Get list of index with score greater than threshold.\n",
    "  pred_boxes = pred_boxes[:pred_t+1]\n",
    "  pred_class = pred_class[:pred_t+1]\n",
    "  return pred_boxes, pred_class"
   ]
  },
  {
   "cell_type": "code",
   "execution_count": null,
   "metadata": {
    "executionInfo": {
     "elapsed": 3263,
     "status": "ok",
     "timestamp": 1611396865422,
     "user": {
      "displayName": "Amit Prakash ce19s013",
      "photoUrl": "",
      "userId": "04868629383149662553"
     },
     "user_tz": -330
    },
    "id": "kkW0_uMq7Fs6"
   },
   "outputs": [],
   "source": [
    "import cv2\n",
    "import matplotlib.pyplot as plt\n",
    "from numpy.random import randint\n",
    "def object_detection_api(img_path, threshold=0.7, rect_th=1, text_size=1, text_th=1):\n",
    "\n",
    "  boxes, pred_cls = get_prediction(img_path, threshold) # Get predictions\n",
    "  img = cv2.imread(img_path) # Read image with cv2\n",
    "  img = cv2.cvtColor(img, cv2.COLOR_BGR2RGB) # Convert to RGB\n",
    "  \n",
    "  for i in range(len(boxes)):\n",
    "    cv2.rectangle(img, boxes[i][0], boxes[i][1],(0,255,0), thickness=rect_th) # Draw Rectangle with the coordinates\n",
    "    cv2.putText(img,pred_cls[i], boxes[i][0],  cv2.FONT_HERSHEY_SIMPLEX, text_size, color=(0,255,0),thickness=text_th) # Write the prediction class\n",
    "  plt.figure(figsize=(20,30)) # display the output image\n",
    "  plt.imshow(img)\n",
    "  plt.xticks([])\n",
    "  plt.yticks([])\n",
    "  plt.show()"
   ]
  },
  {
   "cell_type": "code",
   "execution_count": null,
   "metadata": {
    "executionInfo": {
     "elapsed": 3259,
     "status": "ok",
     "timestamp": 1611396865422,
     "user": {
      "displayName": "Amit Prakash ce19s013",
      "photoUrl": "",
      "userId": "04868629383149662553"
     },
     "user_tz": -330
    },
    "id": "97UMusTGumZO"
   },
   "outputs": [],
   "source": [
    "import os, random"
   ]
  },
  {
   "cell_type": "code",
   "execution_count": null,
   "metadata": {
    "executionInfo": {
     "elapsed": 3219,
     "status": "ok",
     "timestamp": 1611396865423,
     "user": {
      "displayName": "Amit Prakash ce19s013",
      "photoUrl": "",
      "userId": "04868629383149662553"
     },
     "user_tz": -330
    },
    "id": "w6cZhRd6kegs"
   },
   "outputs": [],
   "source": [
    "base_dir = '/home/shubham/Documents/yolo/yolo-project/images'"
   ]
  },
  {
   "cell_type": "code",
   "execution_count": null,
   "metadata": {
    "colab": {
     "background_save": true,
     "base_uri": "https://localhost:8080/",
     "height": 779
    },
    "executionInfo": {
     "elapsed": 16342,
     "status": "ok",
     "timestamp": 1611396878555,
     "user": {
      "displayName": "Amit Prakash ce19s013",
      "photoUrl": "",
      "userId": "04868629383149662553"
     },
     "user_tz": -330
    },
    "id": "KmuJEkWbJP1W"
   },
   "outputs": [],
   "source": [
    "%matplotlib inline\n",
    "model.eval()\n",
    "random_file = random.choice([x for x in os.listdir(base_dir) if os.path.isfile(os.path.join(base_dir, x))])\n",
    "file_path = base_dir+'/'+random_file\n",
    "object_detection_api(file_path)"
   ]
  },
  {
   "cell_type": "code",
   "execution_count": null,
   "metadata": {
    "colab": {
     "base_uri": "https://localhost:8080/",
     "height": 871
    },
    "executionInfo": {
     "elapsed": 22413,
     "status": "ok",
     "timestamp": 1611396884632,
     "user": {
      "displayName": "Amit Prakash ce19s013",
      "photoUrl": "",
      "userId": "04868629383149662553"
     },
     "user_tz": -330
    },
    "id": "-cF2XefsiOxu",
    "outputId": "2233d902-34d4-4457-c980-1c93b7631ef2"
   },
   "outputs": [],
   "source": [
    "random_file = random.choice([x for x in os.listdir(base_dir) if os.path.isfile(os.path.join(base_dir, x))])\n",
    "file_path = base_dir+'/'+random_file\n",
    "object_detection_api(file_path)"
   ]
  },
  {
   "cell_type": "code",
   "execution_count": null,
   "metadata": {
    "colab": {
     "base_uri": "https://localhost:8080/",
     "height": 863
    },
    "executionInfo": {
     "elapsed": 30392,
     "status": "ok",
     "timestamp": 1611396892619,
     "user": {
      "displayName": "Amit Prakash ce19s013",
      "photoUrl": "",
      "userId": "04868629383149662553"
     },
     "user_tz": -330
    },
    "id": "rSakkF1rioQh",
    "outputId": "63a69122-82ff-400a-e21c-a9db923911e8"
   },
   "outputs": [],
   "source": [
    "random_file = random.choice([x for x in os.listdir(base_dir) if os.path.isfile(os.path.join(base_dir, x))])\n",
    "file_path = base_dir+'/'+random_file\n",
    "object_detection_api(file_path)"
   ]
  },
  {
   "cell_type": "code",
   "execution_count": null,
   "metadata": {
    "colab": {
     "base_uri": "https://localhost:8080/",
     "height": 1000
    },
    "executionInfo": {
     "elapsed": 39639,
     "status": "ok",
     "timestamp": 1611396901872,
     "user": {
      "displayName": "Amit Prakash ce19s013",
      "photoUrl": "",
      "userId": "04868629383149662553"
     },
     "user_tz": -330
    },
    "id": "rZB7fgmjkWhj",
    "outputId": "aeddfb20-7925-4140-ef11-7708a442035c"
   },
   "outputs": [],
   "source": [
    "random_file = random.choice([x for x in os.listdir(base_dir) if os.path.isfile(os.path.join(base_dir, x))])\n",
    "file_path = base_dir+'/'+random_file\n",
    "object_detection_api(file_path)"
   ]
  },
  {
   "cell_type": "code",
   "execution_count": null,
   "metadata": {
    "colab": {
     "base_uri": "https://localhost:8080/",
     "height": 1000
    },
    "executionInfo": {
     "elapsed": 48997,
     "status": "ok",
     "timestamp": 1611396911237,
     "user": {
      "displayName": "Amit Prakash ce19s013",
      "photoUrl": "",
      "userId": "04868629383149662553"
     },
     "user_tz": -330
    },
    "id": "5a9xwdbwk6fg",
    "outputId": "b8a46210-bc34-46d2-8caa-bbd3220624dc"
   },
   "outputs": [],
   "source": [
    "random_file = random.choice([x for x in os.listdir(base_dir) if os.path.isfile(os.path.join(base_dir, x))])\n",
    "file_path = base_dir+'/'+random_file\n",
    "object_detection_api(file_path)"
   ]
  },
  {
   "cell_type": "code",
   "execution_count": 14,
   "metadata": {
    "colab": {
     "background_save": true
    },
    "executionInfo": {
     "elapsed": 48996,
     "status": "ok",
     "timestamp": 1611396911242,
     "user": {
      "displayName": "Amit Prakash ce19s013",
      "photoUrl": "",
      "userId": "04868629383149662553"
     },
     "user_tz": -330
    },
    "id": "_It-WRKtlEzr"
   },
   "outputs": [],
   "source": []
  }
 ],
 "metadata": {
  "accelerator": "GPU",
  "colab": {
   "authorship_tag": "ABX9TyNfFbLqweMnTiActSChgdfM",
   "collapsed_sections": [],
   "mount_file_id": "1KyMkf6mwKi37wKhSGy2o-Q8UTsPkOAee",
   "name": "Faster_RCNN_COCO2017_Dataset.ipynb",
   "version": ""
  },
  "kernelspec": {
   "display_name": "Python 3",
   "language": "python",
   "name": "python3"
  },
  "language_info": {
   "codemirror_mode": {
    "name": "ipython",
    "version": 3
   },
   "file_extension": ".py",
   "mimetype": "text/x-python",
   "name": "python",
   "nbconvert_exporter": "python",
   "pygments_lexer": "ipython3",
   "version": "3.6.9"
  }
 },
 "nbformat": 4,
 "nbformat_minor": 1
}
